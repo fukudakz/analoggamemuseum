{
 "cells": [
  {
   "cell_type": "code",
   "execution_count": 1,
   "id": "907826e2",
   "metadata": {},
   "outputs": [],
   "source": [
    "from rdflib import Graph\n",
    "from rdflib import Namespace"
   ]
  },
  {
   "cell_type": "code",
   "execution_count": 2,
   "id": "cb1d0cca",
   "metadata": {
    "scrolled": true
   },
   "outputs": [
    {
     "data": {
      "text/plain": [
       "<Graph identifier=Nc4c5ff30cebf4ce281533979e2c112d9 (<class 'rdflib.graph.Graph'>)>"
      ]
     },
     "execution_count": 2,
     "metadata": {},
     "output_type": "execute_result"
    }
   ],
   "source": [
    "g = Graph()\n",
    "\n",
    "AG = Namespace(\"https://www.analoggamemuseum.org/ontology/\")\n",
    "O = Namespace(\"http://omeka.org/s/vocabs/o#\")\n",
    "\n",
    "g.bind(\"ag\", AG)  # bind an RDFLib-provided namespace to a prefix\n",
    "g.bind(\"o\", O)      # bind a user-declared namespace to a prefix\n",
    "g.parse(\"id.analoggamemuseum.org-items-20240427-171500.json\", format='json-ld')"
   ]
  },
  {
   "cell_type": "code",
   "execution_count": 3,
   "id": "22ac469e",
   "metadata": {},
   "outputs": [],
   "source": [
    "removedgraph = g.remove((None,AG[\"adminNote\"],None))"
   ]
  },
  {
   "cell_type": "code",
   "execution_count": 4,
   "id": "3ca70420",
   "metadata": {},
   "outputs": [
    {
     "data": {
      "text/plain": [
       "<Graph identifier=Nc4c5ff30cebf4ce281533979e2c112d9 (<class 'rdflib.graph.Graph'>)>"
      ]
     },
     "execution_count": 4,
     "metadata": {},
     "output_type": "execute_result"
    }
   ],
   "source": [
    "g.serialize(destination='agmsearch20240428.ttl', format='turtle')"
   ]
  },
  {
   "cell_type": "code",
   "execution_count": 10,
   "id": "b1aa5521",
   "metadata": {},
   "outputs": [],
   "source": [
    "# https://dydra.com/fukudakz"
   ]
  },
  {
   "cell_type": "code",
   "execution_count": null,
   "id": "cf01ba90",
   "metadata": {},
   "outputs": [],
   "source": [
    "# https://collection.rcgs.jp/sparql/#query=PREFIX%20rdf%3A%20%3Chttp%3A%2F%2Fwww.w3.org%2F1999%2F02%2F22-rdf-syntax-ns%23%3E%0Aprefix%20rdf%3A%20%3Chttp%3A%2F%2Fwww.w3.org%2F1999%2F02%2F22-rdf-syntax-ns%23%3E%0Aprefix%20ag%3A%20%3Chttps%3A%2F%2Fwww.analoggamemuseum.org%2Fontology%2F%3E%0Aprefix%20o%3A%20%3Chttp%3A%2F%2Fomeka.org%2Fs%2Fvocabs%2Fo%23%3E%0A%0Aselect%20%3Fid%20%3Foid%20where%20%7B%0A%20%20%3Fs%20a%20ag%3AItem%20%3B%0A%20%20%20%20%20ag%3Aidentifier%20%3Fid%20%3B%0A%20%20%20%20%20o%3Aid%20%3Foid%20.%0A%7D&endpoint=https%3A%2F%2Fdydra.com%2Ffukudakz%2Fagmsearchendpoint%2Fsparql&requestMethod=POST&tabTitle=Query%203&headers=%7B%7D&contentTypeConstruct=text%2Fturtle%2C*%2F*%3Bq%3D0.9&contentTypeSelect=application%2Fsparql-results%2Bjson%2C*%2F*%3Bq%3D0.9&outputFormat=table"
   ]
  }
 ],
 "metadata": {
  "kernelspec": {
   "display_name": "Python 3 (ipykernel)",
   "language": "python",
   "name": "python3"
  },
  "language_info": {
   "codemirror_mode": {
    "name": "ipython",
    "version": 3
   },
   "file_extension": ".py",
   "mimetype": "text/x-python",
   "name": "python",
   "nbconvert_exporter": "python",
   "pygments_lexer": "ipython3",
   "version": "3.9.7"
  }
 },
 "nbformat": 4,
 "nbformat_minor": 5
}
